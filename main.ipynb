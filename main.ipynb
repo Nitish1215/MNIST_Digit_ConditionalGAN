{
 "cells": [
  {
   "cell_type": "markdown",
   "metadata": {},
   "source": [
    "# Conditional GAN MNIST NUMBERS DATASET"
   ]
  },
  {
   "cell_type": "markdown",
   "metadata": {},
   "source": [
    "## Import and Preprocess the Dataset"
   ]
  },
  {
   "cell_type": "code",
   "execution_count": 12,
   "metadata": {},
   "outputs": [],
   "source": [
    "import torch\n",
    "import torch.nn as nn\n",
    "import torch.optim as optim\n",
    "from torchvision import datasets, transforms\n",
    "from torch.utils.data import DataLoader\n",
    "from torchvision.utils import make_grid\n",
    "import matplotlib.pyplot as plt\n",
    "import os"
   ]
  },
  {
   "cell_type": "markdown",
   "metadata": {},
   "source": [
    "#### Check if GPU is available"
   ]
  },
  {
   "cell_type": "code",
   "execution_count": 13,
   "metadata": {},
   "outputs": [],
   "source": [
    "device = torch.device(\"cuda\" if torch.cuda.is_available() else \"cpu\")"
   ]
  },
  {
   "cell_type": "markdown",
   "metadata": {},
   "source": [
    "### Load the MNIST dataset and preprocess"
   ]
  },
  {
   "cell_type": "code",
   "execution_count": 14,
   "metadata": {},
   "outputs": [],
   "source": [
    "transform = transforms.Compose([\n",
    "    transforms.ToTensor(),\n",
    "    transforms.Normalize((0.5,), (0.5,))\n",
    "])\n",
    "\n",
    "train_dataset = datasets.MNIST(root='./data', train=True, transform=transform, download=True)\n",
    "train_loader = DataLoader(train_dataset, batch_size=256, shuffle=True)"
   ]
  },
  {
   "cell_type": "markdown",
   "metadata": {},
   "source": [
    "### Define the Generator Model"
   ]
  },
  {
   "cell_type": "code",
   "execution_count": 15,
   "metadata": {},
   "outputs": [],
   "source": [
    "class Generator(nn.Module):\n",
    "    def __init__(self, latent_dim, n_classes=10):\n",
    "        super(Generator, self).__init__()\n",
    "        self.embedding = nn.Embedding(n_classes, 10)\n",
    "        self.model = nn.Sequential(\n",
    "            nn.Linear(latent_dim + 10, 256),\n",
    "            nn.LeakyReLU(0.2),\n",
    "            nn.Linear(256, 512),\n",
    "            nn.LeakyReLU(0.2),\n",
    "            nn.Linear(512, 1024),\n",
    "            nn.LeakyReLU(0.2),\n",
    "            nn.Linear(1024, 28 * 28),\n",
    "            nn.Tanh()\n",
    "        )\n",
    "\n",
    "    def forward(self, noise, labels):\n",
    "        label_embedding = self.embedding(labels)\n",
    "        noise_concat = torch.cat([noise, label_embedding], dim=1)\n",
    "        img = self.model(noise_concat)\n",
    "        return img.view(img.size(0), 1, 28, 28)"
   ]
  },
  {
   "cell_type": "markdown",
   "metadata": {},
   "source": [
    "### Define the Discriminator Model"
   ]
  },
  {
   "cell_type": "code",
   "execution_count": 16,
   "metadata": {},
   "outputs": [],
   "source": [
    "class Discriminator(nn.Module):\n",
    "    def __init__(self, n_classes=10):\n",
    "        super(Discriminator, self).__init__()\n",
    "        self.embedding = nn.Embedding(n_classes, 10)\n",
    "        self.model = nn.Sequential(\n",
    "            nn.Linear(28 * 28 + 10, 512),\n",
    "            nn.LeakyReLU(0.2),\n",
    "            nn.Dropout(0.4),\n",
    "            nn.Linear(512, 256),\n",
    "            nn.LeakyReLU(0.2),\n",
    "            nn.Dropout(0.4),\n",
    "            nn.Linear(256, 1),\n",
    "            nn.Sigmoid()\n",
    "        )\n",
    "\n",
    "    def forward(self, img, labels):\n",
    "        img = img.view(img.size(0), 28 * 28)\n",
    "        label_embedding = self.embedding(labels)\n",
    "        img_concat = torch.cat([img, label_embedding], dim=1)\n",
    "        return self.model(img_concat)"
   ]
  },
  {
   "cell_type": "markdown",
   "metadata": {},
   "source": [
    "### Initialize models, optimizers, and loss function"
   ]
  },
  {
   "cell_type": "code",
   "execution_count": 17,
   "metadata": {},
   "outputs": [],
   "source": [
    "latent_dim = 100\n",
    "generator = Generator(latent_dim=latent_dim).to(device)\n",
    "discriminator = Discriminator().to(device)\n",
    "\n",
    "optimizer_g = optim.Adam(generator.parameters(), lr=1e-4, betas=(0.5, 0.999))\n",
    "optimizer_d = optim.Adam(discriminator.parameters(), lr=1e-4, betas=(0.5, 0.999))\n",
    "\n",
    "criterion = nn.BCELoss()"
   ]
  },
  {
   "cell_type": "markdown",
   "metadata": {},
   "source": [
    "### Save the model after training"
   ]
  },
  {
   "cell_type": "code",
   "execution_count": 18,
   "metadata": {},
   "outputs": [],
   "source": [
    "def save_model(generator, discriminator, epoch, path='models'):\n",
    "    if not os.path.exists(path):\n",
    "        os.makedirs(path)\n",
    "    torch.save(generator.state_dict(), f'{path}/generator_epoch_{epoch}.pth')\n",
    "    torch.save(discriminator.state_dict(), f'{path}/discriminator_epoch_{epoch}.pth')\n",
    "    print(f'Models saved at epoch {epoch}.')"
   ]
  },
  {
   "cell_type": "markdown",
   "metadata": {},
   "source": [
    "\n",
    "\n",
    "\n",
    "### Load the model for later use"
   ]
  },
  {
   "cell_type": "code",
   "execution_count": 19,
   "metadata": {},
   "outputs": [],
   "source": [
    "def load_model(generator, discriminator, epoch, path='models'):\n",
    "    generator.load_state_dict(torch.load(f'{path}/generator_epoch_{epoch}.pth'))\n",
    "    discriminator.load_state_dict(torch.load(f'{path}/discriminator_epoch_{epoch}.pth'))\n",
    "    print(f'Models loaded from epoch {epoch}.')"
   ]
  },
  {
   "cell_type": "markdown",
   "metadata": {},
   "source": [
    "### Generating and saving images using the trained generator"
   ]
  },
  {
   "cell_type": "code",
   "execution_count": 20,
   "metadata": {},
   "outputs": [],
   "source": [
    "def generate_and_save_images(generator, epoch, latent_dim, n_samples=10):\n",
    "    generator.eval()\n",
    "    noise = torch.randn(n_samples, latent_dim).to(device)\n",
    "    labels = torch.randint(0, 10, (n_samples,)).to(device)\n",
    "    with torch.no_grad():\n",
    "        fake_images = generator(noise, labels).cpu()\n",
    "\n",
    "    # Create a grid of generated images\n",
    "    grid = make_grid(fake_images, nrow=5, normalize=True)\n",
    "    plt.imshow(grid.permute(1, 2, 0))\n",
    "    plt.axis('off')\n",
    "    plt.savefig(f'generated_images_epoch_{epoch}.png')\n",
    "    plt.show()"
   ]
  },
  {
   "cell_type": "markdown",
   "metadata": {},
   "source": [
    "### Training loop"
   ]
  },
  {
   "cell_type": "code",
   "execution_count": 21,
   "metadata": {},
   "outputs": [
    {
     "name": "stdout",
     "output_type": "stream",
     "text": [
      "Epoch [1/150] | D Loss: 0.0478 | G Loss: 5.0525\n",
      "Epoch [2/150] | D Loss: 0.0248 | G Loss: 5.5735\n",
      "Epoch [3/150] | D Loss: 0.0864 | G Loss: 5.2034\n",
      "Epoch [4/150] | D Loss: 0.0285 | G Loss: 6.9148\n",
      "Epoch [5/150] | D Loss: 0.0521 | G Loss: 6.8257\n",
      "Epoch [6/150] | D Loss: 0.0509 | G Loss: 6.3923\n",
      "Epoch [7/150] | D Loss: 0.0534 | G Loss: 6.2472\n",
      "Epoch [8/150] | D Loss: 0.0768 | G Loss: 6.8805\n",
      "Epoch [9/150] | D Loss: 0.0483 | G Loss: 6.7376\n",
      "Epoch [10/150] | D Loss: 0.1798 | G Loss: 5.1805\n",
      "Epoch [11/150] | D Loss: 0.1465 | G Loss: 4.8058\n",
      "Epoch [12/150] | D Loss: 2.4225 | G Loss: 1.5105\n",
      "Epoch [13/150] | D Loss: 0.2202 | G Loss: 7.6602\n",
      "Epoch [14/150] | D Loss: 0.1511 | G Loss: 5.2873\n",
      "Epoch [15/150] | D Loss: 0.2240 | G Loss: 4.6557\n",
      "Epoch [16/150] | D Loss: 0.3337 | G Loss: 4.4192\n",
      "Epoch [17/150] | D Loss: 0.1081 | G Loss: 3.7737\n",
      "Epoch [18/150] | D Loss: 0.3225 | G Loss: 5.1402\n",
      "Epoch [19/150] | D Loss: 0.1848 | G Loss: 4.3331\n",
      "Epoch [20/150] | D Loss: 0.2719 | G Loss: 2.9743\n",
      "Epoch [21/150] | D Loss: 0.2346 | G Loss: 3.8243\n",
      "Epoch [22/150] | D Loss: 0.2490 | G Loss: 3.6401\n",
      "Epoch [23/150] | D Loss: 0.3715 | G Loss: 3.0546\n",
      "Epoch [24/150] | D Loss: 0.7106 | G Loss: 3.5499\n",
      "Epoch [25/150] | D Loss: 0.5231 | G Loss: 2.4032\n",
      "Epoch [26/150] | D Loss: 0.4767 | G Loss: 3.2799\n",
      "Epoch [27/150] | D Loss: 0.4150 | G Loss: 2.7307\n",
      "Epoch [28/150] | D Loss: 0.3898 | G Loss: 3.0488\n",
      "Epoch [29/150] | D Loss: 0.4210 | G Loss: 3.2759\n",
      "Epoch [30/150] | D Loss: 0.6294 | G Loss: 2.2804\n",
      "Models saved at epoch 30.\n"
     ]
    },
    {
     "data": {
      "image/png": "[encoded data removed]",
      "text/plain": [
       "<Figure size 640x480 with 1 Axes>"
      ]
     },
     "metadata": {},
     "output_type": "display_data"
    },
    {
     "name": "stdout",
     "output_type": "stream",
     "text": [
      "Epoch [31/150] | D Loss: 0.6300 | G Loss: 2.9056\n",
      "Epoch [32/150] | D Loss: 0.7028 | G Loss: 2.5344\n",
      "Epoch [33/150] | D Loss: 0.5449 | G Loss: 2.7671\n",
      "Epoch [34/150] | D Loss: 0.6015 | G Loss: 2.5135\n",
      "Epoch [35/150] | D Loss: 0.5470 | G Loss: 2.5868\n",
      "Epoch [36/150] | D Loss: 0.6622 | G Loss: 2.6320\n",
      "Epoch [37/150] | D Loss: 0.5586 | G Loss: 2.4383\n",
      "Epoch [38/150] | D Loss: 0.6680 | G Loss: 1.7647\n",
      "Epoch [39/150] | D Loss: 0.7083 | G Loss: 2.8278\n",
      "Epoch [40/150] | D Loss: 0.5993 | G Loss: 2.6778\n",
      "Epoch [41/150] | D Loss: 0.7247 | G Loss: 1.5546\n",
      "Epoch [42/150] | D Loss: 0.8517 | G Loss: 2.6115\n",
      "Epoch [43/150] | D Loss: 0.6638 | G Loss: 1.6932\n",
      "Epoch [44/150] | D Loss: 0.6990 | G Loss: 1.8944\n",
      "Epoch [45/150] | D Loss: 0.6923 | G Loss: 1.7520\n",
      "Epoch [46/150] | D Loss: 0.6887 | G Loss: 2.0314\n",
      "Epoch [47/150] | D Loss: 0.7446 | G Loss: 1.7039\n",
      "Epoch [48/150] | D Loss: 0.6780 | G Loss: 1.7620\n",
      "Epoch [49/150] | D Loss: 0.6780 | G Loss: 1.7349\n",
      "Epoch [50/150] | D Loss: 0.6458 | G Loss: 1.6518\n",
      "Epoch [51/150] | D Loss: 0.8925 | G Loss: 2.2391\n",
      "Epoch [52/150] | D Loss: 0.8251 | G Loss: 1.2396\n",
      "Epoch [53/150] | D Loss: 0.8406 | G Loss: 1.3678\n",
      "Epoch [54/150] | D Loss: 0.8198 | G Loss: 1.3892\n",
      "Epoch [55/150] | D Loss: 0.8267 | G Loss: 1.7135\n",
      "Epoch [56/150] | D Loss: 0.8948 | G Loss: 1.6921\n",
      "Epoch [57/150] | D Loss: 0.8946 | G Loss: 2.0658\n",
      "Epoch [58/150] | D Loss: 0.8516 | G Loss: 1.5781\n",
      "Epoch [59/150] | D Loss: 0.8012 | G Loss: 1.9913\n",
      "Epoch [60/150] | D Loss: 0.7884 | G Loss: 1.3385\n",
      "Models saved at epoch 60.\n"
     ]
    },
    {
     "data": {
      "image/png": "[encoded data removed]",
      "text/plain": [
       "<Figure size 640x480 with 1 Axes>"
      ]
     },
     "metadata": {},
     "output_type": "display_data"
    },
    {
     "name": "stdout",
     "output_type": "stream",
     "text": [
      "Epoch [61/150] | D Loss: 0.7714 | G Loss: 1.8018\n",
      "Epoch [62/150] | D Loss: 0.7439 | G Loss: 1.8294\n",
      "Epoch [63/150] | D Loss: 0.9104 | G Loss: 1.0322\n",
      "Epoch [64/150] | D Loss: 0.8505 | G Loss: 1.5193\n",
      "Epoch [65/150] | D Loss: 0.8494 | G Loss: 2.0650\n",
      "Epoch [66/150] | D Loss: 0.8691 | G Loss: 1.4351\n",
      "Epoch [67/150] | D Loss: 0.8630 | G Loss: 1.6597\n",
      "Epoch [68/150] | D Loss: 0.9434 | G Loss: 1.9843\n",
      "Epoch [69/150] | D Loss: 0.7763 | G Loss: 1.7470\n",
      "Epoch [70/150] | D Loss: 0.9372 | G Loss: 1.3243\n",
      "Epoch [71/150] | D Loss: 0.9033 | G Loss: 1.7232\n",
      "Epoch [72/150] | D Loss: 0.9289 | G Loss: 1.4467\n",
      "Epoch [73/150] | D Loss: 0.8803 | G Loss: 1.3088\n",
      "Epoch [74/150] | D Loss: 0.9729 | G Loss: 1.4114\n",
      "Epoch [75/150] | D Loss: 0.8797 | G Loss: 1.5230\n",
      "Epoch [76/150] | D Loss: 0.9068 | G Loss: 1.2818\n",
      "Epoch [77/150] | D Loss: 1.0016 | G Loss: 1.7954\n",
      "Epoch [78/150] | D Loss: 0.9054 | G Loss: 1.4968\n",
      "Epoch [79/150] | D Loss: 0.7949 | G Loss: 1.4720\n",
      "Epoch [80/150] | D Loss: 0.8936 | G Loss: 1.4377\n",
      "Epoch [81/150] | D Loss: 0.9572 | G Loss: 1.1101\n",
      "Epoch [82/150] | D Loss: 0.9803 | G Loss: 1.7394\n",
      "Epoch [83/150] | D Loss: 0.8877 | G Loss: 1.6595\n",
      "Epoch [84/150] | D Loss: 1.0164 | G Loss: 1.5701\n",
      "Epoch [85/150] | D Loss: 0.9215 | G Loss: 1.3884\n",
      "Epoch [86/150] | D Loss: 0.9734 | G Loss: 1.3440\n",
      "Epoch [87/150] | D Loss: 0.9890 | G Loss: 1.4907\n",
      "Epoch [88/150] | D Loss: 0.9174 | G Loss: 1.4272\n",
      "Epoch [89/150] | D Loss: 0.8934 | G Loss: 1.2245\n",
      "Epoch [90/150] | D Loss: 1.0240 | G Loss: 1.5691\n",
      "Models saved at epoch 90.\n"
     ]
    },
    {
     "data": {
      "image/png": "[encoded data removed]",
      "text/plain": [
       "<Figure size 640x480 with 1 Axes>"
      ]
     },
     "metadata": {},
     "output_type": "display_data"
    },
    {
     "name": "stdout",
     "output_type": "stream",
     "text": [
      "Epoch [91/150] | D Loss: 0.9430 | G Loss: 1.1885\n",
      "Epoch [92/150] | D Loss: 0.8797 | G Loss: 1.1651\n",
      "Epoch [93/150] | D Loss: 1.0561 | G Loss: 1.7815\n",
      "Epoch [94/150] | D Loss: 0.9315 | G Loss: 1.4336\n",
      "Epoch [95/150] | D Loss: 0.9679 | G Loss: 1.8073\n",
      "Epoch [96/150] | D Loss: 0.8472 | G Loss: 1.5148\n",
      "Epoch [97/150] | D Loss: 0.9381 | G Loss: 1.1641\n",
      "Epoch [98/150] | D Loss: 0.9195 | G Loss: 1.6734\n",
      "Epoch [99/150] | D Loss: 0.9668 | G Loss: 1.6745\n",
      "Epoch [100/150] | D Loss: 0.9766 | G Loss: 1.5194\n",
      "Epoch [101/150] | D Loss: 1.0616 | G Loss: 1.3170\n",
      "Epoch [102/150] | D Loss: 1.0845 | G Loss: 0.9528\n",
      "Epoch [103/150] | D Loss: 1.1139 | G Loss: 1.1382\n",
      "Epoch [104/150] | D Loss: 1.0469 | G Loss: 1.3150\n",
      "Epoch [105/150] | D Loss: 0.8772 | G Loss: 1.5137\n",
      "Epoch [106/150] | D Loss: 1.0271 | G Loss: 1.8056\n",
      "Epoch [107/150] | D Loss: 0.9823 | G Loss: 1.4929\n",
      "Epoch [108/150] | D Loss: 0.9664 | G Loss: 1.5467\n",
      "Epoch [109/150] | D Loss: 1.0630 | G Loss: 1.4387\n",
      "Epoch [110/150] | D Loss: 0.9965 | G Loss: 1.2130\n",
      "Epoch [111/150] | D Loss: 1.0474 | G Loss: 1.0214\n",
      "Epoch [112/150] | D Loss: 0.9871 | G Loss: 2.0319\n",
      "Epoch [113/150] | D Loss: 1.0622 | G Loss: 1.1517\n",
      "Epoch [114/150] | D Loss: 1.1207 | G Loss: 1.6809\n",
      "Epoch [115/150] | D Loss: 0.9259 | G Loss: 1.5225\n",
      "Epoch [116/150] | D Loss: 1.0279 | G Loss: 1.6652\n",
      "Epoch [117/150] | D Loss: 0.9765 | G Loss: 1.4442\n",
      "Epoch [118/150] | D Loss: 0.9939 | G Loss: 1.2668\n",
      "Epoch [119/150] | D Loss: 1.0941 | G Loss: 1.6181\n",
      "Epoch [120/150] | D Loss: 1.1247 | G Loss: 1.7095\n",
      "Models saved at epoch 120.\n"
     ]
    },
    {
     "data": {
      "image/png": "[encoded data removed]",
      "text/plain": [
       "<Figure size 640x480 with 1 Axes>"
      ]
     },
     "metadata": {},
     "output_type": "display_data"
    },
    {
     "name": "stdout",
     "output_type": "stream",
     "text": [
      "Epoch [121/150] | D Loss: 1.0770 | G Loss: 1.0400\n",
      "Epoch [122/150] | D Loss: 0.9151 | G Loss: 1.5498\n",
      "Epoch [123/150] | D Loss: 1.0642 | G Loss: 1.4053\n",
      "Epoch [124/150] | D Loss: 0.8965 | G Loss: 0.9851\n",
      "Epoch [125/150] | D Loss: 1.0790 | G Loss: 1.5582\n",
      "Epoch [126/150] | D Loss: 0.9625 | G Loss: 1.2191\n",
      "Epoch [127/150] | D Loss: 0.9569 | G Loss: 1.6175\n",
      "Epoch [128/150] | D Loss: 0.9242 | G Loss: 1.3675\n",
      "Epoch [129/150] | D Loss: 0.9621 | G Loss: 1.2571\n",
      "Epoch [130/150] | D Loss: 1.0336 | G Loss: 1.0023\n",
      "Epoch [131/150] | D Loss: 1.0063 | G Loss: 1.5678\n",
      "Epoch [132/150] | D Loss: 1.0333 | G Loss: 1.2301\n",
      "Epoch [133/150] | D Loss: 0.9740 | G Loss: 1.5538\n",
      "Epoch [134/150] | D Loss: 1.0921 | G Loss: 1.3857\n",
      "Epoch [135/150] | D Loss: 0.9343 | G Loss: 1.1834\n",
      "Epoch [136/150] | D Loss: 1.0793 | G Loss: 1.3664\n",
      "Epoch [137/150] | D Loss: 1.1441 | G Loss: 1.1225\n",
      "Epoch [138/150] | D Loss: 0.9796 | G Loss: 1.5284\n",
      "Epoch [139/150] | D Loss: 1.0793 | G Loss: 0.8996\n",
      "Epoch [140/150] | D Loss: 0.9488 | G Loss: 1.4795\n",
      "Epoch [141/150] | D Loss: 1.0112 | G Loss: 1.2165\n",
      "Epoch [142/150] | D Loss: 1.0425 | G Loss: 1.2196\n",
      "Epoch [143/150] | D Loss: 0.9950 | G Loss: 1.3643\n",
      "Epoch [144/150] | D Loss: 1.0183 | G Loss: 1.3584\n",
      "Epoch [145/150] | D Loss: 1.0300 | G Loss: 1.2091\n",
      "Epoch [146/150] | D Loss: 1.0613 | G Loss: 1.1442\n",
      "Epoch [147/150] | D Loss: 0.9961 | G Loss: 1.1036\n",
      "Epoch [148/150] | D Loss: 1.0723 | G Loss: 1.9494\n",
      "Epoch [149/150] | D Loss: 1.0772 | G Loss: 0.9226\n",
      "Epoch [150/150] | D Loss: 1.1021 | G Loss: 0.9741\n",
      "Models saved at epoch 150.\n"
     ]
    },
    {
     "data": {
      "image/png": "[encoded data removed]",
      "text/plain": [
       "<Figure size 640x480 with 1 Axes>"
      ]
     },
     "metadata": {},
     "output_type": "display_data"
    }
   ],
   "source": [
    "epochs = 150\n",
    "n_critic = 5\n",
    "\n",
    "for epoch in range(epochs):\n",
    "    for i, (real_images, labels) in enumerate(train_loader):\n",
    "        real_images, labels = real_images.to(device), labels.to(device)\n",
    "\n",
    "        # Train the discriminator multiple times\n",
    "        d_loss = 0\n",
    "        for _ in range(n_critic):\n",
    "            optimizer_d.zero_grad()\n",
    "            real_validity = discriminator(real_images, labels)\n",
    "            real_loss = criterion(real_validity, torch.ones(real_images.size(0), 1).to(device))\n",
    "\n",
    "            noise = torch.randn(real_images.size(0), latent_dim).to(device)\n",
    "            fake_labels = torch.randint(0, 10, (real_images.size(0),)).to(device)\n",
    "            fake_images = generator(noise, fake_labels)\n",
    "            fake_validity = discriminator(fake_images.detach(), fake_labels)\n",
    "            fake_loss = criterion(fake_validity, torch.zeros(real_images.size(0), 1).to(device))\n",
    "\n",
    "            d_loss = real_loss + fake_loss\n",
    "            d_loss.backward()\n",
    "            optimizer_d.step()\n",
    "\n",
    "        # Train the generator\n",
    "        optimizer_g.zero_grad()\n",
    "        noise = torch.randn(real_images.size(0), latent_dim).to(device)\n",
    "        fake_labels = torch.randint(0, 10, (real_images.size(0),)).to(device)\n",
    "        fake_images = generator(noise, fake_labels)\n",
    "        fake_validity = discriminator(fake_images, fake_labels)\n",
    "        g_loss = criterion(fake_validity, torch.ones(real_images.size(0), 1).to(device))\n",
    "\n",
    "        g_loss.backward()\n",
    "        optimizer_g.step()\n",
    "\n",
    "    print(f'Epoch [{epoch + 1}/{epochs}] | D Loss: {d_loss:.4f} | G Loss: {g_loss:.4f}')\n",
    "\n",
    "    # Save the model and generated images every 10th epoch\n",
    "    if (epoch + 1) % 30 == 0:\n",
    "        save_model(generator, discriminator, epoch + 1)\n",
    "        generate_and_save_images(generator, epoch + 1, latent_dim)\n"
   ]
  },
  {
   "cell_type": "markdown",
   "metadata": {},
   "source": [
    "### Generate images after training"
   ]
  },
  {
   "cell_type": "code",
   "execution_count": 22,
   "metadata": {},
   "outputs": [
    {
     "data": {
      "image/png": "[encoded data removed]",
      "text/plain": [
       "<Figure size 640x480 with 1 Axes>"
      ]
     },
     "metadata": {},
     "output_type": "display_data"
    }
   ],
   "source": [
    "\n",
    "generate_and_save_images(generator, epochs, latent_dim)\n",
    "\n",
    "# Function to generate an image given a specific label and noise\n",
    "def generate_image(generator, latent_dim, label):\n",
    "    generator.eval()\n",
    "    noise = torch.randn(1, latent_dim).to(device)\n",
    "    label_tensor = torch.tensor([label]).to(device)\n",
    "    with torch.no_grad():\n",
    "        generated_image = generator(noise, label_tensor).cpu()\n",
    "\n",
    "    plt.imshow(generated_image.view(28, 28), cmap='gray')\n",
    "    plt.axis('off')\n",
    "    plt.show()"
   ]
  },
  {
   "cell_type": "code",
   "execution_count": 23,
   "metadata": {},
   "outputs": [
    {
     "data": {
      "image/png": "[encoded data removed]",
      "text/plain": [
       "<Figure size 640x480 with 1 Axes>"
      ]
     },
     "metadata": {},
     "output_type": "display_data"
    }
   ],
   "source": [
    "# Example: Generate an image of label 5\n",
    "generate_image(generator, latent_dim, label=5)"
   ]
  }
 ],
 "metadata": {
  "kernelspec": {
   "display_name": "pytorch",
   "language": "python",
   "name": "python3"
  },
  "language_info": {
   "codemirror_mode": {
    "name": "ipython",
    "version": 3
   },
   "file_extension": ".py",
   "mimetype": "text/x-python",
   "name": "python",
   "nbconvert_exporter": "python",
   "pygments_lexer": "ipython3",
   "version": "3.9.19"
  }
 },
 "nbformat": 4,
 "nbformat_minor": 2
}
