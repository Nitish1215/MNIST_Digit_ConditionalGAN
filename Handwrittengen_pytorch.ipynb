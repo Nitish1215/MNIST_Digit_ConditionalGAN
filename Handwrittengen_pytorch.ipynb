{
 "cells": [
  {
   "cell_type": "markdown",
   "metadata": {},
   "source": [
    "# Conditional GAN MNIST NUMBERS DATASET"
   ]
  },
  {
   "cell_type": "markdown",
   "metadata": {},
   "source": [
    "## Import and Preprocess the Dataset"
   ]
  },
  {
   "cell_type": "code",
   "execution_count": 1,
   "metadata": {},
   "outputs": [
    {
     "name": "stderr",
     "output_type": "stream",
     "text": [
      "/opt/anaconda3/envs/pytorch/lib/python3.9/site-packages/torchvision/io/image.py:13: UserWarning: Failed to load image Python extension: 'dlopen(/opt/anaconda3/envs/pytorch/lib/python3.9/site-packages/torchvision/image.so, 0x0006): Symbol not found: __ZN3c1017RegisterOperatorsD1Ev\n",
      "  Referenced from: <2D1B8D5C-7891-3680-9CF9-F771AE880676> /opt/anaconda3/envs/pytorch/lib/python3.9/site-packages/torchvision/image.so\n",
      "  Expected in:     <D9949A91-AC47-3F4B-804D-0B66B93A7A59> /opt/anaconda3/envs/pytorch/lib/python3.9/site-packages/torch/lib/libtorch_cpu.dylib'If you don't plan on using image functionality from `torchvision.io`, you can ignore this warning. Otherwise, there might be something wrong with your environment. Did you have `libjpeg` or `libpng` installed before building `torchvision` from source?\n",
      "  warn(\n"
     ]
    }
   ],
   "source": [
    "import torch\n",
    "import torch.nn as nn\n",
    "import torch.optim as optim\n",
    "from torchvision import datasets, transforms\n",
    "from torch.utils.data import DataLoader\n",
    "from torchvision.utils import make_grid\n",
    "import matplotlib.pyplot as plt\n",
    "import os"
   ]
  },
  {
   "cell_type": "markdown",
   "metadata": {},
   "source": [
    "#### Check if GPU is available"
   ]
  },
  {
   "cell_type": "code",
   "execution_count": 2,
   "metadata": {},
   "outputs": [],
   "source": [
    "device = torch.device(\"cuda\" if torch.cuda.is_available() else \"cpu\")"
   ]
  },
  {
   "cell_type": "markdown",
   "metadata": {},
   "source": [
    "### Load the MNIST dataset and preprocess"
   ]
  },
  {
   "cell_type": "code",
   "execution_count": 3,
   "metadata": {},
   "outputs": [],
   "source": [
    "transform = transforms.Compose([\n",
    "    transforms.ToTensor(),\n",
    "    transforms.Normalize((0.5,), (0.5,))\n",
    "])\n",
    "\n",
    "train_dataset = datasets.MNIST(root='./data', train=True, transform=transform, download=True)\n",
    "train_loader = DataLoader(train_dataset, batch_size=256, shuffle=True)"
   ]
  },
  {
   "cell_type": "markdown",
   "metadata": {},
   "source": [
    "### Define the Generator Model"
   ]
  },
  {
   "cell_type": "code",
   "execution_count": 4,
   "metadata": {},
   "outputs": [],
   "source": [
    "class Generator(nn.Module):\n",
    "    def __init__(self, latent_dim, n_classes=10):\n",
    "        super(Generator, self).__init__()\n",
    "        self.embedding = nn.Embedding(n_classes, 10)\n",
    "        self.model = nn.Sequential(\n",
    "            nn.Linear(latent_dim + 10, 256),\n",
    "            nn.LeakyReLU(0.2),\n",
    "            nn.Linear(256, 512),\n",
    "            nn.LeakyReLU(0.2),\n",
    "            nn.Linear(512, 1024),\n",
    "            nn.LeakyReLU(0.2),\n",
    "            nn.Linear(1024, 28 * 28),\n",
    "            nn.Tanh()\n",
    "        )\n",
    "\n",
    "    def forward(self, noise, labels):\n",
    "        label_embedding = self.embedding(labels)\n",
    "        noise_concat = torch.cat([noise, label_embedding], dim=1)\n",
    "        img = self.model(noise_concat)\n",
    "        return img.view(img.size(0), 1, 28, 28)"
   ]
  },
  {
   "cell_type": "markdown",
   "metadata": {},
   "source": [
    "### Define the Discriminator Model"
   ]
  },
  {
   "cell_type": "code",
   "execution_count": 5,
   "metadata": {},
   "outputs": [],
   "source": [
    "class Discriminator(nn.Module):\n",
    "    def __init__(self, n_classes=10):\n",
    "        super(Discriminator, self).__init__()\n",
    "        self.embedding = nn.Embedding(n_classes, 10)\n",
    "        self.model = nn.Sequential(\n",
    "            nn.Linear(28 * 28 + 10, 512),\n",
    "            nn.LeakyReLU(0.2),\n",
    "            nn.Dropout(0.4),\n",
    "            nn.Linear(512, 256),\n",
    "            nn.LeakyReLU(0.2),\n",
    "            nn.Dropout(0.4),\n",
    "            nn.Linear(256, 1),\n",
    "            nn.Sigmoid()\n",
    "        )\n",
    "\n",
    "    def forward(self, img, labels):\n",
    "        img = img.view(img.size(0), 28 * 28)\n",
    "        label_embedding = self.embedding(labels)\n",
    "        img_concat = torch.cat([img, label_embedding], dim=1)\n",
    "        return self.model(img_concat)"
   ]
  },
  {
   "cell_type": "markdown",
   "metadata": {},
   "source": [
    "### Initialize models, optimizers, and loss function"
   ]
  },
  {
   "cell_type": "code",
   "execution_count": 6,
   "metadata": {},
   "outputs": [],
   "source": [
    "latent_dim = 100\n",
    "generator = Generator(latent_dim=latent_dim).to(device)\n",
    "discriminator = Discriminator().to(device)\n",
    "\n",
    "optimizer_g = optim.Adam(generator.parameters(), lr=1e-4, betas=(0.5, 0.999))\n",
    "optimizer_d = optim.Adam(discriminator.parameters(), lr=1e-4, betas=(0.5, 0.999))\n",
    "\n",
    "criterion = nn.BCELoss()"
   ]
  },
  {
   "cell_type": "markdown",
   "metadata": {},
   "source": [
    "### Save the model after training"
   ]
  },
  {
   "cell_type": "code",
   "execution_count": 7,
   "metadata": {},
   "outputs": [],
   "source": [
    "def save_model(generator, discriminator, epoch, path='models'):\n",
    "    if not os.path.exists(path):\n",
    "        os.makedirs(path)\n",
    "    torch.save(generator.state_dict(), f'{path}/generator_epoch_{epoch}.pth')\n",
    "    torch.save(discriminator.state_dict(), f'{path}/discriminator_epoch_{epoch}.pth')\n",
    "    print(f'Models saved at epoch {epoch}.')"
   ]
  },
  {
   "cell_type": "markdown",
   "metadata": {},
   "source": [
    "\n",
    "\n",
    "\n",
    "### Load the model for later use"
   ]
  },
  {
   "cell_type": "code",
   "execution_count": 8,
   "metadata": {},
   "outputs": [],
   "source": [
    "def load_model(generator, discriminator, epoch, path='models'):\n",
    "    generator.load_state_dict(torch.load(f'{path}/generator_epoch_{epoch}.pth'))\n",
    "    discriminator.load_state_dict(torch.load(f'{path}/discriminator_epoch_{epoch}.pth'))\n",
    "    print(f'Models loaded from epoch {epoch}.')"
   ]
  },
  {
   "cell_type": "markdown",
   "metadata": {},
   "source": [
    "### Generating and saving images using the trained generator"
   ]
  },
  {
   "cell_type": "code",
   "execution_count": 9,
   "metadata": {},
   "outputs": [],
   "source": [
    "def generate_and_save_images(generator, epoch, latent_dim, n_samples=10):\n",
    "    generator.eval()\n",
    "    noise = torch.randn(n_samples, latent_dim).to(device)\n",
    "    labels = torch.randint(0, 10, (n_samples,)).to(device)\n",
    "    with torch.no_grad():\n",
    "        fake_images = generator(noise, labels).cpu()\n",
    "\n",
    "    # Create a grid of generated images\n",
    "    grid = make_grid(fake_images, nrow=5, normalize=True)\n",
    "    plt.imshow(grid.permute(1, 2, 0))\n",
    "    plt.axis('off')\n",
    "    plt.savefig(f'generated_images_epoch_{epoch}.png')\n",
    "    plt.show()"
   ]
  },
  {
   "cell_type": "markdown",
   "metadata": {},
   "source": [
    "### Training loop"
   ]
  },
  {
   "cell_type": "code",
   "execution_count": 10,
   "metadata": {},
   "outputs": [
    {
     "name": "stdout",
     "output_type": "stream",
     "text": [
      "Epoch [1/10] | D Loss: 0.2561 | G Loss: 2.6337\n",
      "Epoch [2/10] | D Loss: 0.0397 | G Loss: 5.6395\n",
      "Epoch [3/10] | D Loss: 0.0807 | G Loss: 4.5479\n",
      "Epoch [4/10] | D Loss: 0.0758 | G Loss: 6.3817\n",
      "Epoch [5/10] | D Loss: 0.2116 | G Loss: 9.0956\n",
      "Epoch [6/10] | D Loss: 0.1494 | G Loss: 8.0590\n",
      "Epoch [7/10] | D Loss: 0.0904 | G Loss: 6.9286\n",
      "Epoch [8/10] | D Loss: 0.1221 | G Loss: 6.9107\n",
      "Epoch [9/10] | D Loss: 0.1738 | G Loss: 7.3477\n",
      "Epoch [10/10] | D Loss: 0.1291 | G Loss: 5.5372\n"
     ]
    }
   ],
   "source": [
    "epochs = 150\n",
    "n_critic = 5\n",
    "\n",
    "for epoch in range(epochs):\n",
    "    for i, (real_images, labels) in enumerate(train_loader):\n",
    "        real_images, labels = real_images.to(device), labels.to(device)\n",
    "\n",
    "        # Train the discriminator multiple times\n",
    "        d_loss = 0\n",
    "        for _ in range(n_critic):\n",
    "            optimizer_d.zero_grad()\n",
    "            real_validity = discriminator(real_images, labels)\n",
    "            real_loss = criterion(real_validity, torch.ones(real_images.size(0), 1).to(device))\n",
    "\n",
    "            noise = torch.randn(real_images.size(0), latent_dim).to(device)\n",
    "            fake_labels = torch.randint(0, 10, (real_images.size(0),)).to(device)\n",
    "            fake_images = generator(noise, fake_labels)\n",
    "            fake_validity = discriminator(fake_images.detach(), fake_labels)\n",
    "            fake_loss = criterion(fake_validity, torch.zeros(real_images.size(0), 1).to(device))\n",
    "\n",
    "            d_loss = real_loss + fake_loss\n",
    "            d_loss.backward()\n",
    "            optimizer_d.step()\n",
    "\n",
    "        # Train the generator\n",
    "        optimizer_g.zero_grad()\n",
    "        noise = torch.randn(real_images.size(0), latent_dim).to(device)\n",
    "        fake_labels = torch.randint(0, 10, (real_images.size(0),)).to(device)\n",
    "        fake_images = generator(noise, fake_labels)\n",
    "        fake_validity = discriminator(fake_images, fake_labels)\n",
    "        g_loss = criterion(fake_validity, torch.ones(real_images.size(0), 1).to(device))\n",
    "\n",
    "        g_loss.backward()\n",
    "        optimizer_g.step()\n",
    "\n",
    "    print(f'Epoch [{epoch + 1}/{epochs}] | D Loss: {d_loss:.4f} | G Loss: {g_loss:.4f}')\n",
    "\n",
    "    # Save the model and generated images every 10th epoch\n",
    "    if (epoch + 1) % 30 == 0:\n",
    "        save_model(generator, discriminator, epoch + 1)\n",
    "        generate_and_save_images(generator, epoch + 1, latent_dim)\n"
   ]
  },
  {
   "cell_type": "markdown",
   "metadata": {},
   "source": [
    "### Generate images after training"
   ]
  },
  {
   "cell_type": "code",
   "execution_count": 11,
   "metadata": {},
   "outputs": [
    {
     "data": {
      "image/png": "[encoded data removed]",
      "text/plain": [
       "<Figure size 640x480 with 1 Axes>"
      ]
     },
     "metadata": {},
     "output_type": "display_data"
    }
   ],
   "source": [
    "\n",
    "generate_and_save_images(generator, epochs, latent_dim)\n",
    "\n",
    "# Function to generate an image given a specific label and noise\n",
    "def generate_image(generator, latent_dim, label):\n",
    "    generator.eval()\n",
    "    noise = torch.randn(1, latent_dim).to(device)\n",
    "    label_tensor = torch.tensor([label]).to(device)\n",
    "    with torch.no_grad():\n",
    "        generated_image = generator(noise, label_tensor).cpu()\n",
    "\n",
    "    plt.imshow(generated_image.view(28, 28), cmap='gray')\n",
    "    plt.axis('off')\n",
    "    plt.show()"
   ]
  },
  {
   "cell_type": "code",
   "execution_count": 12,
   "metadata": {},
   "outputs": [
    {
     "data": {
      "image/png": "[encoded data removed]",
      "text/plain": [
       "<Figure size 640x480 with 1 Axes>"
      ]
     },
     "metadata": {},
     "output_type": "display_data"
    }
   ],
   "source": [
    "# Example: Generate an image of label 5\n",
    "generate_image(generator, latent_dim, label=5)"
   ]
  }
 ],
 "metadata": {
  "kernelspec": {
   "display_name": "pytorch",
   "language": "python",
   "name": "python3"
  },
  "language_info": {
   "codemirror_mode": {
    "name": "ipython",
    "version": 3
   },
   "file_extension": ".py",
   "mimetype": "text/x-python",
   "name": "python",
   "nbconvert_exporter": "python",
   "pygments_lexer": "ipython3",
   "version": "3.9.19"
  }
 },
 "nbformat": 4,
 "nbformat_minor": 2
}
