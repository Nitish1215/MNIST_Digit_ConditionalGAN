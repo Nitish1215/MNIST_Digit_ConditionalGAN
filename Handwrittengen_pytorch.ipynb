{
 "cells": [
  {
   "cell_type": "markdown",
   "metadata": {},
   "source": [
    "# Conditional GAN MNIST NUMBERS DATASET"
   ]
  },
  {
   "cell_type": "markdown",
   "metadata": {},
   "source": [
    "## Import and Preprocess the Dataset"
   ]
  },
  {
   "cell_type": "code",
   "execution_count": null,
   "metadata": {},
   "outputs": [],
   "source": [
    "import torch\n",
    "import torch.nn as nn\n",
    "import torch.optim as optim\n",
    "from torchvision import datasets, transforms\n",
    "from torch.utils.data import DataLoader\n",
    "from torchvision.utils import make_grid\n",
    "import matplotlib.pyplot as plt\n",
    "import os"
   ]
  },
  {
   "cell_type": "markdown",
   "metadata": {},
   "source": [
    "#### Check if GPU is available"
   ]
  },
  {
   "cell_type": "code",
   "execution_count": null,
   "metadata": {},
   "outputs": [],
   "source": [
    "device = torch.device(\"cuda\" if torch.cuda.is_available() else \"cpu\")"
   ]
  },
  {
   "cell_type": "markdown",
   "metadata": {},
   "source": [
    "### Load the MNIST dataset and preprocess"
   ]
  },
  {
   "cell_type": "code",
   "execution_count": null,
   "metadata": {},
   "outputs": [],
   "source": [
    "transform = transforms.Compose([\n",
    "    transforms.ToTensor(),\n",
    "    transforms.Normalize((0.5,), (0.5,))\n",
    "])\n",
    "\n",
    "train_dataset = datasets.MNIST(root='./data', train=True, transform=transform, download=True)\n",
    "train_loader = DataLoader(train_dataset, batch_size=256, shuffle=True)"
   ]
  },
  {
   "cell_type": "markdown",
   "metadata": {},
   "source": [
    "### Define the Generator Model"
   ]
  },
  {
   "cell_type": "code",
   "execution_count": null,
   "metadata": {},
   "outputs": [],
   "source": [
    "class Generator(nn.Module):\n",
    "    def __init__(self, latent_dim, n_classes=10):\n",
    "        super(Generator, self).__init__()\n",
    "        self.embedding = nn.Embedding(n_classes, 10)\n",
    "        self.model = nn.Sequential(\n",
    "            nn.Linear(latent_dim + 10, 256),\n",
    "            nn.LeakyReLU(0.2),\n",
    "            nn.Linear(256, 512),\n",
    "            nn.LeakyReLU(0.2),\n",
    "            nn.Linear(512, 1024),\n",
    "            nn.LeakyReLU(0.2),\n",
    "            nn.Linear(1024, 28 * 28),\n",
    "            nn.Tanh()\n",
    "        )\n",
    "\n",
    "    def forward(self, noise, labels):\n",
    "        label_embedding = self.embedding(labels)\n",
    "        noise_concat = torch.cat([noise, label_embedding], dim=1)\n",
    "        img = self.model(noise_concat)\n",
    "        return img.view(img.size(0), 1, 28, 28)"
   ]
  },
  {
   "cell_type": "markdown",
   "metadata": {},
   "source": [
    "### Define the Discriminator Model"
   ]
  },
  {
   "cell_type": "code",
   "execution_count": null,
   "metadata": {},
   "outputs": [],
   "source": [
    "class Discriminator(nn.Module):\n",
    "    def __init__(self, n_classes=10):\n",
    "        super(Discriminator, self).__init__()\n",
    "        self.embedding = nn.Embedding(n_classes, 10)\n",
    "        self.model = nn.Sequential(\n",
    "            nn.Linear(28 * 28 + 10, 512),\n",
    "            nn.LeakyReLU(0.2),\n",
    "            nn.Dropout(0.4),\n",
    "            nn.Linear(512, 256),\n",
    "            nn.LeakyReLU(0.2),\n",
    "            nn.Dropout(0.4),\n",
    "            nn.Linear(256, 1),\n",
    "            nn.Sigmoid()\n",
    "        )\n",
    "\n",
    "    def forward(self, img, labels):\n",
    "        img = img.view(img.size(0), 28 * 28)\n",
    "        label_embedding = self.embedding(labels)\n",
    "        img_concat = torch.cat([img, label_embedding], dim=1)\n",
    "        return self.model(img_concat)"
   ]
  },
  {
   "cell_type": "markdown",
   "metadata": {},
   "source": [
    "### Initialize models, optimizers, and loss function"
   ]
  },
  {
   "cell_type": "code",
   "execution_count": null,
   "metadata": {},
   "outputs": [],
   "source": [
    "latent_dim = 100\n",
    "generator = Generator(latent_dim=latent_dim).to(device)\n",
    "discriminator = Discriminator().to(device)\n",
    "\n",
    "optimizer_g = optim.Adam(generator.parameters(), lr=1e-4, betas=(0.5, 0.999))\n",
    "optimizer_d = optim.Adam(discriminator.parameters(), lr=1e-4, betas=(0.5, 0.999))\n",
    "\n",
    "criterion = nn.BCELoss()"
   ]
  },
  {
   "cell_type": "markdown",
   "metadata": {},
   "source": [
    "### Save the model after training"
   ]
  },
  {
   "cell_type": "code",
   "execution_count": null,
   "metadata": {},
   "outputs": [],
   "source": [
    "def save_model(generator, discriminator, epoch, path='models'):\n",
    "    if not os.path.exists(path):\n",
    "        os.makedirs(path)\n",
    "    torch.save(generator.state_dict(), f'{path}/generator_epoch_{epoch}.pth')\n",
    "    torch.save(discriminator.state_dict(), f'{path}/discriminator_epoch_{epoch}.pth')\n",
    "    print(f'Models saved at epoch {epoch}.')"
   ]
  },
  {
   "cell_type": "markdown",
   "metadata": {},
   "source": [
    "\n",
    "\n",
    "\n",
    "### Load the model for later use"
   ]
  },
  {
   "cell_type": "code",
   "execution_count": null,
   "metadata": {},
   "outputs": [],
   "source": [
    "def load_model(generator, discriminator, epoch, path='models'):\n",
    "    generator.load_state_dict(torch.load(f'{path}/generator_epoch_{epoch}.pth'))\n",
    "    discriminator.load_state_dict(torch.load(f'{path}/discriminator_epoch_{epoch}.pth'))\n",
    "    print(f'Models loaded from epoch {epoch}.')"
   ]
  },
  {
   "cell_type": "code",
   "execution_count": 31,
   "metadata": {},
   "outputs": [
    {
     "name": "stdout",
     "output_type": "stream",
     "text": [
      "Epoch [1/150] | D Loss: 0.2260 | G Loss: 2.9720\n",
      "Epoch [2/150] | D Loss: 0.0643 | G Loss: 4.9206\n",
      "Epoch [3/150] | D Loss: 0.0156 | G Loss: 7.7468\n",
      "Epoch [4/150] | D Loss: 0.0199 | G Loss: 6.9227\n",
      "Epoch [5/150] | D Loss: 0.0777 | G Loss: 6.6890\n",
      "Epoch [6/150] | D Loss: 0.2067 | G Loss: 3.9915\n",
      "Epoch [7/150] | D Loss: 0.0725 | G Loss: 4.8178\n",
      "Epoch [8/150] | D Loss: 0.1026 | G Loss: 6.0151\n",
      "Epoch [9/150] | D Loss: 0.0413 | G Loss: 7.5594\n",
      "Epoch [10/150] | D Loss: 0.0750 | G Loss: 6.7233\n",
      "Epoch [11/150] | D Loss: 0.1536 | G Loss: 6.5981\n",
      "Epoch [12/150] | D Loss: 0.2789 | G Loss: 5.6274\n",
      "Epoch [13/150] | D Loss: 0.1510 | G Loss: 4.9548\n",
      "Epoch [14/150] | D Loss: 0.2680 | G Loss: 4.6660\n",
      "Epoch [15/150] | D Loss: 0.1979 | G Loss: 4.4993\n",
      "Epoch [16/150] | D Loss: 0.4104 | G Loss: 5.6838\n",
      "Epoch [17/150] | D Loss: 0.2797 | G Loss: 4.1067\n",
      "Epoch [18/150] | D Loss: 0.3783 | G Loss: 4.0837\n",
      "Epoch [19/150] | D Loss: 0.2195 | G Loss: 3.9739\n",
      "Epoch [20/150] | D Loss: 0.2679 | G Loss: 3.2961\n"
     ]
    },
    {
     "data": {
      "image/png": "[encoded data removed]",
      "text/plain": [
       "<Figure size 640x480 with 1 Axes>"
      ]
     },
     "metadata": {},
     "output_type": "display_data"
    },
    {
     "name": "stdout",
     "output_type": "stream",
     "text": [
      "Epoch [21/150] | D Loss: 0.4133 | G Loss: 3.4735\n",
      "Epoch [22/150] | D Loss: 0.4034 | G Loss: 2.6601\n",
      "Epoch [23/150] | D Loss: 0.3396 | G Loss: 2.8469\n",
      "Epoch [24/150] | D Loss: 0.3761 | G Loss: 3.3288\n",
      "Epoch [25/150] | D Loss: 0.4228 | G Loss: 3.0053\n",
      "Epoch [26/150] | D Loss: 0.4782 | G Loss: 4.0709\n",
      "Epoch [27/150] | D Loss: 0.4648 | G Loss: 2.7075\n",
      "Epoch [28/150] | D Loss: 0.9052 | G Loss: 1.6804\n",
      "Epoch [29/150] | D Loss: 0.5033 | G Loss: 2.2671\n",
      "Epoch [30/150] | D Loss: 0.4884 | G Loss: 2.9810\n",
      "Epoch [31/150] | D Loss: 0.4288 | G Loss: 2.3468\n",
      "Epoch [32/150] | D Loss: 0.3929 | G Loss: 2.6105\n",
      "Epoch [33/150] | D Loss: 0.5989 | G Loss: 1.9765\n",
      "Epoch [34/150] | D Loss: 0.4691 | G Loss: 2.8095\n",
      "Epoch [35/150] | D Loss: 0.7235 | G Loss: 2.2429\n",
      "Epoch [36/150] | D Loss: 0.6025 | G Loss: 1.7898\n",
      "Epoch [37/150] | D Loss: 0.5957 | G Loss: 3.2204\n",
      "Epoch [38/150] | D Loss: 0.6150 | G Loss: 2.4212\n",
      "Epoch [39/150] | D Loss: 0.8666 | G Loss: 3.3759\n",
      "Epoch [40/150] | D Loss: 0.6295 | G Loss: 2.6428\n"
     ]
    },
    {
     "data": {
      "image/png": "[encoded data removed]",
      "text/plain": [
       "<Figure size 640x480 with 1 Axes>"
      ]
     },
     "metadata": {},
     "output_type": "display_data"
    },
    {
     "name": "stdout",
     "output_type": "stream",
     "text": [
      "Epoch [41/150] | D Loss: 0.5674 | G Loss: 1.9981\n",
      "Epoch [42/150] | D Loss: 0.5870 | G Loss: 2.0486\n",
      "Epoch [43/150] | D Loss: 0.5042 | G Loss: 2.0828\n",
      "Epoch [44/150] | D Loss: 0.6160 | G Loss: 2.7097\n",
      "Epoch [45/150] | D Loss: 0.8162 | G Loss: 2.2723\n",
      "Epoch [46/150] | D Loss: 0.9616 | G Loss: 1.2453\n",
      "Epoch [47/150] | D Loss: 0.7588 | G Loss: 1.7155\n",
      "Epoch [48/150] | D Loss: 0.7465 | G Loss: 1.8235\n",
      "Epoch [49/150] | D Loss: 0.7432 | G Loss: 1.3985\n",
      "Epoch [50/150] | D Loss: 0.8524 | G Loss: 1.5999\n",
      "Epoch [51/150] | D Loss: 0.6888 | G Loss: 2.0524\n",
      "Epoch [52/150] | D Loss: 0.7775 | G Loss: 2.0614\n",
      "Epoch [53/150] | D Loss: 0.6123 | G Loss: 2.3804\n",
      "Epoch [54/150] | D Loss: 0.7204 | G Loss: 2.1656\n",
      "Epoch [55/150] | D Loss: 0.8399 | G Loss: 1.8831\n",
      "Epoch [56/150] | D Loss: 0.6721 | G Loss: 1.7121\n",
      "Epoch [57/150] | D Loss: 0.8639 | G Loss: 1.2993\n",
      "Epoch [58/150] | D Loss: 0.8230 | G Loss: 1.9151\n",
      "Epoch [59/150] | D Loss: 0.7654 | G Loss: 1.8468\n",
      "Epoch [60/150] | D Loss: 0.9175 | G Loss: 1.7183\n"
     ]
    },
    {
     "data": {
      "image/png": "[encoded data removed]",
      "text/plain": [
       "<Figure size 640x480 with 1 Axes>"
      ]
     },
     "metadata": {},
     "output_type": "display_data"
    },
    {
     "name": "stdout",
     "output_type": "stream",
     "text": [
      "Epoch [61/150] | D Loss: 0.8348 | G Loss: 2.2206\n",
      "Epoch [62/150] | D Loss: 0.7330 | G Loss: 1.7003\n",
      "Epoch [63/150] | D Loss: 0.8508 | G Loss: 2.3996\n",
      "Epoch [64/150] | D Loss: 0.9414 | G Loss: 1.3889\n",
      "Epoch [65/150] | D Loss: 0.7498 | G Loss: 1.9697\n",
      "Epoch [66/150] | D Loss: 0.8854 | G Loss: 1.9949\n",
      "Epoch [67/150] | D Loss: 0.7123 | G Loss: 2.2139\n",
      "Epoch [68/150] | D Loss: 0.7799 | G Loss: 1.7141\n",
      "Epoch [69/150] | D Loss: 0.8654 | G Loss: 1.6722\n",
      "Epoch [70/150] | D Loss: 0.9257 | G Loss: 2.2161\n",
      "Epoch [71/150] | D Loss: 0.8171 | G Loss: 1.3523\n",
      "Epoch [72/150] | D Loss: 0.8041 | G Loss: 1.6854\n",
      "Epoch [73/150] | D Loss: 0.9322 | G Loss: 1.4868\n",
      "Epoch [74/150] | D Loss: 0.9393 | G Loss: 1.4885\n",
      "Epoch [75/150] | D Loss: 0.8891 | G Loss: 1.3715\n",
      "Epoch [76/150] | D Loss: 0.9232 | G Loss: 2.3449\n",
      "Epoch [77/150] | D Loss: 0.7407 | G Loss: 1.9313\n",
      "Epoch [78/150] | D Loss: 0.9032 | G Loss: 1.8595\n",
      "Epoch [79/150] | D Loss: 0.9328 | G Loss: 1.4512\n",
      "Epoch [80/150] | D Loss: 0.8237 | G Loss: 1.5270\n"
     ]
    },
    {
     "data": {
      "image/png": "[encoded data removed]",
      "text/plain": [
       "<Figure size 640x480 with 1 Axes>"
      ]
     },
     "metadata": {},
     "output_type": "display_data"
    },
    {
     "name": "stdout",
     "output_type": "stream",
     "text": [
      "Epoch [81/150] | D Loss: 0.9220 | G Loss: 1.6743\n",
      "Epoch [82/150] | D Loss: 0.8611 | G Loss: 1.5597\n",
      "Epoch [83/150] | D Loss: 0.8553 | G Loss: 1.3402\n",
      "Epoch [84/150] | D Loss: 0.8534 | G Loss: 1.5607\n",
      "Epoch [85/150] | D Loss: 0.7568 | G Loss: 1.6712\n",
      "Epoch [86/150] | D Loss: 0.9638 | G Loss: 1.4159\n",
      "Epoch [87/150] | D Loss: 0.9784 | G Loss: 1.9606\n",
      "Epoch [88/150] | D Loss: 1.0537 | G Loss: 0.9834\n",
      "Epoch [89/150] | D Loss: 0.8515 | G Loss: 1.5618\n",
      "Epoch [90/150] | D Loss: 0.8219 | G Loss: 1.4859\n",
      "Epoch [91/150] | D Loss: 1.0911 | G Loss: 2.3784\n",
      "Epoch [92/150] | D Loss: 0.9185 | G Loss: 1.8375\n",
      "Epoch [93/150] | D Loss: 0.7774 | G Loss: 1.7978\n",
      "Epoch [94/150] | D Loss: 0.8490 | G Loss: 1.7955\n",
      "Epoch [95/150] | D Loss: 0.9406 | G Loss: 1.1808\n",
      "Epoch [96/150] | D Loss: 1.0332 | G Loss: 2.0289\n",
      "Epoch [97/150] | D Loss: 0.9274 | G Loss: 1.5785\n",
      "Epoch [98/150] | D Loss: 0.8556 | G Loss: 1.3715\n",
      "Epoch [99/150] | D Loss: 0.9585 | G Loss: 1.1657\n",
      "Epoch [100/150] | D Loss: 0.9697 | G Loss: 1.3636\n"
     ]
    },
    {
     "data": {
      "image/png": "[encoded data removed]",
      "text/plain": [
       "<Figure size 640x480 with 1 Axes>"
      ]
     },
     "metadata": {},
     "output_type": "display_data"
    },
    {
     "name": "stdout",
     "output_type": "stream",
     "text": [
      "Epoch [101/150] | D Loss: 0.8172 | G Loss: 1.6786\n",
      "Epoch [102/150] | D Loss: 0.8372 | G Loss: 1.6664\n",
      "Epoch [103/150] | D Loss: 0.9468 | G Loss: 1.1870\n",
      "Epoch [104/150] | D Loss: 0.8630 | G Loss: 1.3776\n",
      "Epoch [105/150] | D Loss: 0.9668 | G Loss: 1.9160\n",
      "Epoch [106/150] | D Loss: 0.8586 | G Loss: 1.5616\n",
      "Epoch [107/150] | D Loss: 0.9708 | G Loss: 1.1437\n",
      "Epoch [108/150] | D Loss: 0.9310 | G Loss: 1.4480\n",
      "Epoch [109/150] | D Loss: 0.9254 | G Loss: 1.4729\n",
      "Epoch [110/150] | D Loss: 0.8874 | G Loss: 1.2911\n",
      "Epoch [111/150] | D Loss: 0.9153 | G Loss: 1.6694\n",
      "Epoch [112/150] | D Loss: 0.9466 | G Loss: 1.5281\n",
      "Epoch [113/150] | D Loss: 0.9480 | G Loss: 1.1251\n",
      "Epoch [114/150] | D Loss: 0.9664 | G Loss: 1.1745\n",
      "Epoch [115/150] | D Loss: 1.0962 | G Loss: 1.2731\n",
      "Epoch [116/150] | D Loss: 1.0148 | G Loss: 1.9466\n",
      "Epoch [117/150] | D Loss: 0.9558 | G Loss: 1.3452\n",
      "Epoch [118/150] | D Loss: 0.8998 | G Loss: 1.3720\n",
      "Epoch [119/150] | D Loss: 0.9150 | G Loss: 1.6294\n",
      "Epoch [120/150] | D Loss: 0.9245 | G Loss: 1.3023\n"
     ]
    },
    {
     "data": {
      "image/png": "[encoded data removed]",
      "text/plain": [
       "<Figure size 640x480 with 1 Axes>"
      ]
     },
     "metadata": {},
     "output_type": "display_data"
    },
    {
     "name": "stdout",
     "output_type": "stream",
     "text": [
      "Epoch [121/150] | D Loss: 1.0221 | G Loss: 1.5659\n",
      "Epoch [122/150] | D Loss: 0.8620 | G Loss: 1.2002\n",
      "Epoch [123/150] | D Loss: 1.0010 | G Loss: 1.6964\n",
      "Epoch [124/150] | D Loss: 1.1153 | G Loss: 1.3161\n",
      "Epoch [125/150] | D Loss: 0.9841 | G Loss: 1.1648\n",
      "Epoch [126/150] | D Loss: 0.8951 | G Loss: 1.0625\n",
      "Epoch [127/150] | D Loss: 1.1016 | G Loss: 1.2989\n",
      "Epoch [128/150] | D Loss: 1.0383 | G Loss: 1.2121\n",
      "Epoch [129/150] | D Loss: 0.9152 | G Loss: 1.2575\n",
      "Epoch [130/150] | D Loss: 0.9742 | G Loss: 1.4921\n",
      "Epoch [131/150] | D Loss: 0.9841 | G Loss: 1.4415\n",
      "Epoch [132/150] | D Loss: 0.8669 | G Loss: 1.0851\n",
      "Epoch [133/150] | D Loss: 1.0248 | G Loss: 1.5582\n",
      "Epoch [134/150] | D Loss: 0.9533 | G Loss: 1.0086\n",
      "Epoch [135/150] | D Loss: 0.9189 | G Loss: 1.2970\n",
      "Epoch [136/150] | D Loss: 0.9778 | G Loss: 1.9863\n",
      "Epoch [137/150] | D Loss: 0.9877 | G Loss: 1.4921\n",
      "Epoch [138/150] | D Loss: 1.1279 | G Loss: 0.9508\n",
      "Epoch [139/150] | D Loss: 0.9458 | G Loss: 1.2473\n",
      "Epoch [140/150] | D Loss: 0.9312 | G Loss: 1.3064\n"
     ]
    },
    {
     "data": {
      "image/png": "[encoded data removed]",
      "text/plain": [
       "<Figure size 640x480 with 1 Axes>"
      ]
     },
     "metadata": {},
     "output_type": "display_data"
    },
    {
     "name": "stdout",
     "output_type": "stream",
     "text": [
      "Epoch [141/150] | D Loss: 1.0324 | G Loss: 1.4280\n",
      "Epoch [142/150] | D Loss: 0.8538 | G Loss: 1.4133\n",
      "Epoch [143/150] | D Loss: 1.0393 | G Loss: 1.5255\n",
      "Epoch [144/150] | D Loss: 1.0334 | G Loss: 1.2501\n",
      "Epoch [145/150] | D Loss: 1.0737 | G Loss: 1.5036\n",
      "Epoch [146/150] | D Loss: 0.9206 | G Loss: 1.4423\n",
      "Epoch [147/150] | D Loss: 0.9904 | G Loss: 1.2069\n",
      "Epoch [148/150] | D Loss: 1.0551 | G Loss: 1.7875\n",
      "Epoch [149/150] | D Loss: 0.8999 | G Loss: 1.3725\n",
      "Epoch [150/150] | D Loss: 1.0182 | G Loss: 1.3712\n"
     ]
    },
    {
     "data": {
      "image/png": "[encoded data removed]",
      "text/plain": [
       "<Figure size 640x480 with 1 Axes>"
      ]
     },
     "metadata": {},
     "output_type": "display_data"
    },
    {
     "data": {
      "image/png": "[encoded data removed]",
      "text/plain": [
       "<Figure size 640x480 with 1 Axes>"
      ]
     },
     "metadata": {},
     "output_type": "display_data"
    }
   ],
   "source": [
    "\n",
    "\n",
    "\n",
    "# Generating and saving images using the trained generator\n",
    "def generate_and_save_images(generator, epoch, latent_dim, n_samples=10):\n",
    "    generator.eval()\n",
    "    noise = torch.randn(n_samples, latent_dim).to(device)\n",
    "    labels = torch.randint(0, 10, (n_samples,)).to(device)\n",
    "    with torch.no_grad():\n",
    "        fake_images = generator(noise, labels).cpu()\n",
    "\n",
    "    # Create a grid of generated images\n",
    "    grid = make_grid(fake_images, nrow=5, normalize=True)\n",
    "    plt.imshow(grid.permute(1, 2, 0))\n",
    "    plt.axis('off')\n",
    "    plt.savefig(f'generated_images_epoch_{epoch}.png')\n",
    "    plt.show()\n",
    "# Training loop (for reference)\n",
    "# Training loop (for reference)\n",
    "epochs = 150\n",
    "n_critic = 5\n",
    "\n",
    "for epoch in range(epochs):\n",
    "    for i, (real_images, labels) in enumerate(train_loader):\n",
    "        real_images, labels = real_images.to(device), labels.to(device)\n",
    "\n",
    "        # Train the discriminator multiple times\n",
    "        d_loss = 0\n",
    "        for _ in range(n_critic):\n",
    "            optimizer_d.zero_grad()\n",
    "            real_validity = discriminator(real_images, labels)\n",
    "            real_loss = criterion(real_validity, torch.ones(real_images.size(0), 1).to(device))\n",
    "\n",
    "            noise = torch.randn(real_images.size(0), latent_dim).to(device)\n",
    "            fake_labels = torch.randint(0, 10, (real_images.size(0),)).to(device)\n",
    "            fake_images = generator(noise, fake_labels)\n",
    "            fake_validity = discriminator(fake_images.detach(), fake_labels)\n",
    "            fake_loss = criterion(fake_validity, torch.zeros(real_images.size(0), 1).to(device))\n",
    "\n",
    "            d_loss = real_loss + fake_loss\n",
    "            d_loss.backward()\n",
    "            optimizer_d.step()\n",
    "\n",
    "        # Train the generator\n",
    "        optimizer_g.zero_grad()\n",
    "        noise = torch.randn(real_images.size(0), latent_dim).to(device)\n",
    "        fake_labels = torch.randint(0, 10, (real_images.size(0),)).to(device)\n",
    "        fake_images = generator(noise, fake_labels)\n",
    "        fake_validity = discriminator(fake_images, fake_labels)\n",
    "        g_loss = criterion(fake_validity, torch.ones(real_images.size(0), 1).to(device))\n",
    "\n",
    "        g_loss.backward()\n",
    "        optimizer_g.step()\n",
    "\n",
    "    print(f'Epoch [{epoch + 1}/{epochs}] | D Loss: {d_loss:.4f} | G Loss: {g_loss:.4f}')\n",
    "\n",
    "    # Save the model and generated images every 10th epoch\n",
    "    if (epoch + 1) % 30 == 0:\n",
    "        save_model(generator, discriminator, epoch + 1)\n",
    "        generate_and_save_images(generator, epoch + 1, latent_dim)\n",
    "\n",
    "\n",
    "\n",
    "# Generate images after training\n",
    "generate_and_save_images(generator, epochs, latent_dim)\n",
    "\n",
    "# Function to generate an image given a specific label and noise\n",
    "def generate_image(generator, latent_dim, label):\n",
    "    generator.eval()\n",
    "    noise = torch.randn(1, latent_dim).to(device)\n",
    "    label_tensor = torch.tensor([label]).to(device)\n",
    "    with torch.no_grad():\n",
    "        generated_image = generator(noise, label_tensor).cpu()\n",
    "\n",
    "    plt.imshow(generated_image.view(28, 28), cmap='gray')\n",
    "    plt.axis('off')\n",
    "    plt.show()\n",
    "\n",
    "# Example: Generate an image of label 5\n",
    "generate_image(generator, latent_dim, label=5)\n"
   ]
  },
  {
   "cell_type": "code",
   "execution_count": 1,
   "metadata": {},
   "outputs": [
    {
     "ename": "NameError",
     "evalue": "name 'generate_image' is not defined",
     "output_type": "error",
     "traceback": [
      "\u001b[0;31m---------------------------------------------------------------------------\u001b[0m",
      "\u001b[0;31mNameError\u001b[0m                                 Traceback (most recent call last)",
      "Cell \u001b[0;32mIn[1], line 1\u001b[0m\n\u001b[0;32m----> 1\u001b[0m \u001b[43mgenerate_image\u001b[49m(generator, latent_dim, label\u001b[38;5;241m=\u001b[39m\u001b[38;5;241m3\u001b[39m)\n",
      "\u001b[0;31mNameError\u001b[0m: name 'generate_image' is not defined"
     ]
    }
   ],
   "source": [
    "generate_image(generator, latent_dim, label=3)"
   ]
  },
  {
   "cell_type": "code",
   "execution_count": null,
   "metadata": {},
   "outputs": [],
   "source": []
  }
 ],
 "metadata": {
  "kernelspec": {
   "display_name": "pytorch",
   "language": "python",
   "name": "python3"
  },
  "language_info": {
   "codemirror_mode": {
    "name": "ipython",
    "version": 3
   },
   "file_extension": ".py",
   "mimetype": "text/x-python",
   "name": "python",
   "nbconvert_exporter": "python",
   "pygments_lexer": "ipython3",
   "version": "3.9.19"
  }
 },
 "nbformat": 4,
 "nbformat_minor": 2
}
